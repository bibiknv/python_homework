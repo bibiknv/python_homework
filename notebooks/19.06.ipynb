{
 "cells": [
  {
   "cell_type": "code",
   "execution_count": null,
   "id": "ef0d0ae9",
   "metadata": {},
   "outputs": [],
   "source": [
    "#готовила документы на подачу ВНЖ, сделала нумаратаж, перевод свидетельства"
   ]
  },
  {
   "cell_type": "code",
   "execution_count": 8,
   "id": "4199f532",
   "metadata": {},
   "outputs": [],
   "source": [
    "# https://stepik.org/lesson/520159/step/12?unit=512678\n",
    "\n",
    "from datetime import datetime, date\n",
    "import sys\n",
    "\n",
    "MODE='TEST'\n",
    "\n",
    "if MODE=='TEST':\n",
    "    fin = open('test.txt')\n",
    "    fout = open('test_out.txt', 'w')\n",
    "else:\n",
    "    fin = sys.stdin\n",
    "    fout = sys.stdout\n",
    "    \n",
    "with fin, fout:\n",
    "    first_player = 'Анри'\n",
    "    second_player = 'Дима'\n",
    "    \n",
    "    list_result = []\n",
    "    \n",
    "    for number in fin:\n",
    "        list_result.append(number.strip())\n",
    "    if int(list_result[-1]) % 2 == 0 and len(list_result) % 2 != 0:\n",
    "        fout.write(first_player)\n",
    "    if int(list_result[-1]) % 2 == 0 and len(list_result) % 2 == 0:\n",
    "        fout.write(second_player)\n",
    "    \n",
    "    if int(list_result[-1]) % 2 != 0 and len(list_result) % 2 != 0:\n",
    "        fout.write(second_player)\n",
    "    if int(list_result[-1]) % 2 != 0 and len(list_result) % 2 == 0:\n",
    "        fout.write(first_player)\n",
    "    "
   ]
  },
  {
   "cell_type": "code",
   "execution_count": 9,
   "id": "ce2068d9",
   "metadata": {},
   "outputs": [
    {
     "ename": "IndexError",
     "evalue": "list index out of range",
     "output_type": "error",
     "traceback": [
      "\u001b[1;31m---------------------------------------------------------------------------\u001b[0m",
      "\u001b[1;31mIndexError\u001b[0m                                Traceback (most recent call last)",
      "Cell \u001b[1;32mIn[9], line 8\u001b[0m\n\u001b[0;32m      6\u001b[0m     \u001b[38;5;28mprint\u001b[39m(\u001b[38;5;124m'\u001b[39m\u001b[38;5;124mАнри\u001b[39m\u001b[38;5;124m'\u001b[39m \u001b[38;5;28;01mif\u001b[39;00m data[\u001b[38;5;241m-\u001b[39m\u001b[38;5;241m1\u001b[39m] \u001b[38;5;241m%\u001b[39m \u001b[38;5;241m2\u001b[39m \u001b[38;5;241m==\u001b[39m \u001b[38;5;241m0\u001b[39m \u001b[38;5;28;01melse\u001b[39;00m \u001b[38;5;124m'\u001b[39m\u001b[38;5;124mДима\u001b[39m\u001b[38;5;124m'\u001b[39m)\n\u001b[0;32m      7\u001b[0m \u001b[38;5;28;01melse\u001b[39;00m:\n\u001b[1;32m----> 8\u001b[0m     \u001b[38;5;28mprint\u001b[39m(\u001b[38;5;124m'\u001b[39m\u001b[38;5;124mАнри\u001b[39m\u001b[38;5;124m'\u001b[39m \u001b[38;5;28;01mif\u001b[39;00m \u001b[43mdata\u001b[49m\u001b[43m[\u001b[49m\u001b[38;5;241;43m-\u001b[39;49m\u001b[38;5;241;43m1\u001b[39;49m\u001b[43m]\u001b[49m \u001b[38;5;241m%\u001b[39m \u001b[38;5;241m2\u001b[39m \u001b[38;5;241m!=\u001b[39m \u001b[38;5;241m0\u001b[39m \u001b[38;5;28;01melse\u001b[39;00m \u001b[38;5;124m'\u001b[39m\u001b[38;5;124mДима\u001b[39m\u001b[38;5;124m'\u001b[39m)\n",
      "\u001b[1;31mIndexError\u001b[0m: list index out of range"
     ]
    }
   ],
   "source": [
    "import sys\n",
    "from datetime import datetime\n",
    "\n",
    "data = [int(x) for x in sys.stdin]\n",
    "\n",
    "if len(data) % 2 != 0:\n",
    "    print('Анри' if data[-1] % 2 == 0 else 'Дима')\n",
    "else:\n",
    "    print('Анри' if data[-1] % 2 != 0 else 'Дима')"
   ]
  },
  {
   "cell_type": "code",
   "execution_count": 10,
   "id": "7f356a4b",
   "metadata": {},
   "outputs": [
    {
     "ename": "NameError",
     "evalue": "name 'socks' is not defined",
     "output_type": "error",
     "traceback": [
      "\u001b[1;31m---------------------------------------------------------------------------\u001b[0m",
      "\u001b[1;31mNameError\u001b[0m                                 Traceback (most recent call last)",
      "Cell \u001b[1;32mIn[10], line 6\u001b[0m\n\u001b[0;32m      4\u001b[0m     count \u001b[38;5;241m+\u001b[39m\u001b[38;5;241m=\u001b[39m \u001b[38;5;241m1\u001b[39m\n\u001b[0;32m      5\u001b[0m     socks \u001b[38;5;241m=\u001b[39m \u001b[38;5;28mint\u001b[39m(i)\n\u001b[1;32m----> 6\u001b[0m \u001b[38;5;28mprint\u001b[39m((\u001b[38;5;124m'\u001b[39m\u001b[38;5;124mАнри\u001b[39m\u001b[38;5;124m'\u001b[39m, \u001b[38;5;124m'\u001b[39m\u001b[38;5;124mДима\u001b[39m\u001b[38;5;124m'\u001b[39m)[\u001b[43msocks\u001b[49m \u001b[38;5;241m%\u001b[39m \u001b[38;5;241m2\u001b[39m  \u001b[38;5;241m==\u001b[39m count \u001b[38;5;241m%\u001b[39m \u001b[38;5;241m2\u001b[39m])\n",
      "\u001b[1;31mNameError\u001b[0m: name 'socks' is not defined"
     ]
    }
   ],
   "source": [
    "import sys\n",
    "count = 0\n",
    "for i in sys.stdin:\n",
    "    count += 1\n",
    "    socks = int(i)\n",
    "print(('Анри', 'Дима')[socks % 2  == count % 2])\n"
   ]
  },
  {
   "cell_type": "code",
   "execution_count": 15,
   "id": "b02851d7",
   "metadata": {},
   "outputs": [
    {
     "ename": "IndexError",
     "evalue": "list index out of range",
     "output_type": "error",
     "traceback": [
      "\u001b[1;31m---------------------------------------------------------------------------\u001b[0m",
      "\u001b[1;31mIndexError\u001b[0m                                Traceback (most recent call last)",
      "Cell \u001b[1;32mIn[15], line 24\u001b[0m\n\u001b[0;32m     21\u001b[0m     list_result\u001b[38;5;241m.\u001b[39mappend(\u001b[38;5;28mint\u001b[39m(height\u001b[38;5;241m.\u001b[39mstrip()))\n\u001b[0;32m     23\u001b[0m list_result \u001b[38;5;241m=\u001b[39m \u001b[38;5;28msorted\u001b[39m(list_result)\n\u001b[1;32m---> 24\u001b[0m the_lowest_student \u001b[38;5;241m=\u001b[39m \u001b[43mlist_result\u001b[49m\u001b[43m[\u001b[49m\u001b[38;5;241;43m0\u001b[39;49m\u001b[43m]\u001b[49m\n\u001b[0;32m     25\u001b[0m the_highest_student \u001b[38;5;241m=\u001b[39m list_result[\u001b[38;5;241m-\u001b[39m\u001b[38;5;241m1\u001b[39m]\n\u001b[0;32m     26\u001b[0m average_height \u001b[38;5;241m=\u001b[39m \u001b[38;5;28msum\u001b[39m(list_result) \u001b[38;5;241m/\u001b[39m \u001b[38;5;28mlen\u001b[39m(list_result)\n",
      "\u001b[1;31mIndexError\u001b[0m: list index out of range"
     ]
    }
   ],
   "source": [
    "\n",
    "# https://stepik.org/lesson/520159/step/13?unit=512678\n",
    "\n",
    "import sys\n",
    "\n",
    "MODE='PROD'\n",
    "\n",
    "if MODE=='TEST':\n",
    "    fin = open('test.txt')\n",
    "    fout = open('test_out.txt', 'w')\n",
    "else:\n",
    "    fin = sys.stdin\n",
    "    fout = sys.stdout\n",
    "    \n",
    "with fin, fout:\n",
    "    list_result = []\n",
    "    \n",
    "    for height in fin:\n",
    "        list_result.append(int(height.strip()))\n",
    "        \n",
    "    list_result = sorted(list_result)\n",
    "    the_lowest_student = list_result[0]\n",
    "    the_highest_student = list_result[-1]\n",
    "    average_height = sum(list_result) / len(list_result)\n",
    "    \n",
    "    if len(list_result) == 0:\n",
    "        fout.write('нет учеников')\n",
    "    else:\n",
    "        fout.write('Рост самого низкого ученика: ' + str(the_lowest_student))\n",
    "        fout.write('Рост самого высокого ученика: ' + str(the_highest_student))\n",
    "        fout.write('Средний рост: ' + str(average_height))\n",
    "        \n",
    "        \n",
    " "
   ]
  },
  {
   "cell_type": "code",
   "execution_count": null,
   "id": "e300f6af",
   "metadata": {},
   "outputs": [],
   "source": []
  },
  {
   "cell_type": "code",
   "execution_count": 8,
   "id": "534e9a2b",
   "metadata": {},
   "outputs": [
    {
     "name": "stdout",
     "output_type": "stream",
     "text": [
      "1\n",
      "#РїРѕРґСЃС‡РёС‚С‹РІР°РµРј РєРѕР»РёС‡РµСЃС‚РІРѕ С†РёС„СЂ\n",
      "\n",
      "2\n",
      "#РїСЂРѕРІРµСЂСЏРµРј РєР°Р¶РґС‹Р№ СЃРёРјРІРѕР»\n",
      "\n"
     ]
    }
   ],
   "source": [
    "# https://stepik.org/lesson/520159/step/14?unit=512678\n",
    "\n",
    "import sys\n",
    "\n",
    "MODE='TEST'\n",
    "\n",
    "if MODE=='TEST':\n",
    "    fin = open('test.txt')\n",
    "    fout = open('test_out.txt', 'w')\n",
    "else:\n",
    "    fin = sys.stdin\n",
    "    fout = sys.stdout\n",
    "\n",
    "number_of_comments = 0\n",
    "\n",
    "with fin, fout:\n",
    "    for line in fin:\n",
    "        line.strip(' ')\n",
    "        if line.startswith('#'):\n",
    "            number_of_comments += 1 \n",
    "            print(number_of_comments)\n",
    "            print(line)\n",
    "#     fout.write(str(number_of_comments))"
   ]
  },
  {
   "cell_type": "code",
   "execution_count": null,
   "id": "075a1ecf",
   "metadata": {},
   "outputs": [],
   "source": [
    "# https://stepik.org/lesson/520159/step/15?unit=512678\n",
    "      "
   ]
  },
  {
   "cell_type": "code",
   "execution_count": null,
   "id": "ca4fd053",
   "metadata": {},
   "outputs": [],
   "source": []
  }
 ],
 "metadata": {
  "kernelspec": {
   "display_name": "Python 3 (ipykernel)",
   "language": "python",
   "name": "python3"
  },
  "language_info": {
   "codemirror_mode": {
    "name": "ipython",
    "version": 3
   },
   "file_extension": ".py",
   "mimetype": "text/x-python",
   "name": "python",
   "nbconvert_exporter": "python",
   "pygments_lexer": "ipython3",
   "version": "3.10.9"
  }
 },
 "nbformat": 4,
 "nbformat_minor": 5
}
