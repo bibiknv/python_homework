{
 "cells": [
  {
   "cell_type": "code",
   "execution_count": 5,
   "id": "d29c91ff",
   "metadata": {},
   "outputs": [],
   "source": [
    "import sys\n",
    "\n",
    "MODE='TEST'\n",
    "\n",
    "if MODE=='TEST':\n",
    "    fin = open('test.txt')\n",
    "    fout = open('test_out.txt', 'w')\n",
    "else:\n",
    "    fin = sys.stdin\n",
    "    fout = sys.stdout\n",
    "\n",
    "# for line in fin.readlines():\n",
    "#     fout.write(line.strip()[::-1] + '\\n')"
   ]
  },
  {
   "cell_type": "code",
   "execution_count": 6,
   "id": "a02a7c2e",
   "metadata": {},
   "outputs": [
    {
     "data": {
      "text/plain": [
       "[5, 2, 26, 564]"
      ]
     },
     "execution_count": 6,
     "metadata": {},
     "output_type": "execute_result"
    }
   ],
   "source": [
    "list(map(int, fin))\n"
   ]
  },
  {
   "cell_type": "code",
   "execution_count": 15,
   "id": "15de3055",
   "metadata": {},
   "outputs": [
    {
     "ename": "TypeError",
     "evalue": "'_io.TextIOWrapper' object cannot be interpreted as an integer",
     "output_type": "error",
     "traceback": [
      "\u001b[1;31m---------------------------------------------------------------------------\u001b[0m",
      "\u001b[1;31mTypeError\u001b[0m                                 Traceback (most recent call last)",
      "Cell \u001b[1;32mIn[15], line 14\u001b[0m\n\u001b[0;32m     11\u001b[0m fin \u001b[38;5;241m=\u001b[39m sys\u001b[38;5;241m.\u001b[39mstdin\n\u001b[0;32m     12\u001b[0m list_result \u001b[38;5;241m=\u001b[39m []\n\u001b[1;32m---> 14\u001b[0m \u001b[38;5;28;01mfor\u001b[39;00m i \u001b[38;5;129;01min\u001b[39;00m \u001b[38;5;28;43mrange\u001b[39;49m\u001b[43m(\u001b[49m\u001b[43mfin\u001b[49m\u001b[43m)\u001b[49m:\n\u001b[0;32m     15\u001b[0m     list_result \u001b[38;5;241m=\u001b[39m \u001b[38;5;28mlist\u001b[39m(\u001b[38;5;28mmap\u001b[39m(\u001b[38;5;28mstr\u001b[39m, fin))\n\u001b[0;32m     16\u001b[0m     list_result\u001b[38;5;241m.\u001b[39mappend(string\u001b[38;5;241m.\u001b[39mtoordinal())\n",
      "\u001b[1;31mTypeError\u001b[0m: '_io.TextIOWrapper' object cannot be interpreted as an integer"
     ]
    }
   ],
   "source": [
    "# # https://stepik.org/lesson/520159/step/11?unit=512678\n",
    "# 2022-06-15\n",
    "# 2022-06-12\n",
    "# 2022-06-16\n",
    "# 2022-06-30\n",
    "\n",
    "\n",
    "from datetime import datetime, date\n",
    "import sys\n",
    "\n",
    "fin = 4\n",
    "list_result = []\n",
    "\n",
    "for i in range(fin):\n",
    "    string = datetime.strptime(input(), '%Y-%m-%d')\n",
    "    list_result.append(string.toordinal())\n",
    "list_result = sorted(list_result)\n",
    "\n",
    "delta = date.fromordinal(list_result[-1]) - date.fromordinal(list_result[0])\n",
    "print(delta.days)"
   ]
  },
  {
   "cell_type": "code",
   "execution_count": 2,
   "id": "bba1d6b0",
   "metadata": {},
   "outputs": [
    {
     "ename": "ValueError",
     "evalue": "Invalid isoformat string: '1'",
     "output_type": "error",
     "traceback": [
      "\u001b[1;31m---------------------------------------------------------------------------\u001b[0m",
      "\u001b[1;31mValueError\u001b[0m                                Traceback (most recent call last)",
      "Cell \u001b[1;32mIn[2], line 23\u001b[0m\n\u001b[0;32m     20\u001b[0m list_result \u001b[38;5;241m=\u001b[39m []\n\u001b[0;32m     22\u001b[0m \u001b[38;5;28;01mfor\u001b[39;00m line \u001b[38;5;129;01min\u001b[39;00m fin:\n\u001b[1;32m---> 23\u001b[0m     list_result\u001b[38;5;241m.\u001b[39mappend(\u001b[43mdatetime\u001b[49m\u001b[38;5;241;43m.\u001b[39;49m\u001b[43mfromisoformat\u001b[49m\u001b[43m(\u001b[49m\u001b[43mline\u001b[49m\u001b[38;5;241;43m.\u001b[39;49m\u001b[43mstrip\u001b[49m\u001b[43m(\u001b[49m\u001b[43m)\u001b[49m\u001b[43m)\u001b[49m)\n\u001b[0;32m     24\u001b[0m list_result \u001b[38;5;241m=\u001b[39m \u001b[38;5;28msorted\u001b[39m(list_result)\n\u001b[0;32m     26\u001b[0m delta \u001b[38;5;241m=\u001b[39m list_result[\u001b[38;5;241m-\u001b[39m\u001b[38;5;241m1\u001b[39m] \u001b[38;5;241m-\u001b[39m list_result[\u001b[38;5;241m0\u001b[39m]\n",
      "\u001b[1;31mValueError\u001b[0m: Invalid isoformat string: '1'"
     ]
    }
   ],
   "source": [
    "# # https://stepik.org/lesson/520159/step/11?unit=512678\n",
    "# 2022-06-15\n",
    "# 2022-06-12\n",
    "# 2022-06-16\n",
    "# 2022-06-30\n",
    "\n",
    "\n",
    "from datetime import datetime, date\n",
    "import sys\n",
    "\n",
    "MODE='TEST'\n",
    "\n",
    "if MODE=='TEST':\n",
    "    fin = open('test.txt')\n",
    "    fout = open('test_out.txt', 'w')\n",
    "else:\n",
    "    fin = sys.stdin\n",
    "    fout = sys.stdout\n",
    "with fin, fout:\n",
    "    list_result = []\n",
    "\n",
    "    for line in fin:\n",
    "        list_result.append(datetime.fromisoformat(line.strip()))\n",
    "    list_result = sorted(list_result)\n",
    "\n",
    "    delta = list_result[-1] - list_result[0]\n",
    "    fout.write(str(delta.days))"
   ]
  },
  {
   "cell_type": "code",
   "execution_count": 22,
   "id": "75313b80",
   "metadata": {},
   "outputs": [
    {
     "data": {
      "text/plain": [
       "datetime.datetime(2022, 6, 15, 0, 0)"
      ]
     },
     "execution_count": 22,
     "metadata": {},
     "output_type": "execute_result"
    }
   ],
   "source": [
    "datetime.fromisoformat(line.strip())"
   ]
  },
  {
   "cell_type": "code",
   "execution_count": null,
   "id": "8e75d3dc",
   "metadata": {},
   "outputs": [],
   "source": [
    "from datetime import datetime, date\n",
    "import sys\n",
    "\n",
    "\n",
    "list_result = sorted([datetime.datetime.strptime(i.strip(), '%Y-%m-%d') for i in sys.stdin.readlines()])\n",
    "\n"
   ]
  },
  {
   "cell_type": "code",
   "execution_count": 28,
   "id": "309f8715",
   "metadata": {},
   "outputs": [
    {
     "name": "stdout",
     "output_type": "stream",
     "text": [
      "[datetime.datetime(2022, 6, 12, 0, 0), datetime.datetime(2022, 6, 15, 0, 0), datetime.datetime(2022, 6, 16, 0, 0), datetime.datetime(2022, 6, 30, 0, 0)]\n"
     ]
    }
   ],
   "source": [
    "from datetime import datetime, date\n",
    "import sys\n",
    "\n",
    "MODE='TEST'\n",
    "\n",
    "if MODE=='TEST':\n",
    "    fin = open('test.txt')\n",
    "    fout = open('test_out.txt', 'w')\n",
    "else:\n",
    "    fin = sys.stdin\n",
    "    fout = sys.stdout\n",
    "    \n",
    "list_result = sorted([datetime.strptime(i.strip(), '%Y-%m-%d') for i in fin.readlines()])\n",
    "\n",
    "print(list_result)\n",
    "\n",
    "# for i in range(fin):\n",
    "#     string = datetime.strptime(input(), '%Y-%m-%d')\n",
    "#     list_result.append(string.toordinal())\n",
    "# list_result = sorted(list_result)\n",
    "\n",
    "# delta = date.fromordinal(list_result[-1]) - date.fromordinal(list_result[0])\n",
    "# print(delta.days)"
   ]
  },
  {
   "cell_type": "code",
   "execution_count": null,
   "id": "0d2f1379",
   "metadata": {},
   "outputs": [],
   "source": []
  }
 ],
 "metadata": {
  "kernelspec": {
   "display_name": "Python 3 (ipykernel)",
   "language": "python",
   "name": "python3"
  },
  "language_info": {
   "codemirror_mode": {
    "name": "ipython",
    "version": 3
   },
   "file_extension": ".py",
   "mimetype": "text/x-python",
   "name": "python",
   "nbconvert_exporter": "python",
   "pygments_lexer": "ipython3",
   "version": "3.10.9"
  }
 },
 "nbformat": 4,
 "nbformat_minor": 5
}
