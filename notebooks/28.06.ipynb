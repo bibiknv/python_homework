{
 "cells": [
  {
   "cell_type": "code",
   "execution_count": 24,
   "id": "4cab88d8",
   "metadata": {},
   "outputs": [
    {
     "name": "stdout",
     "output_type": "stream",
     "text": [
      "2\n",
      "purple,1\n",
      "blue,3\n",
      "red,4\n",
      "green,28\n"
     ]
    }
   ],
   "source": [
    "# https://stepik.org/lesson/518491/step/14?unit=510939\n",
    "import csv\n",
    "\n",
    "sorting_col = int(input()) - 1\n",
    "with open('deniro.csv', 'r', encoding='utf-8') as file:\n",
    "    data = file.read()\n",
    "    table = [r.split(',') for r in data.splitlines()]\n",
    "    table.sort(key = lambda x: int(x[sorting_col]) if x[sorting_col].isdigit() else x[sorting_col])\n",
    "    for i in table:\n",
    "        print(*i, sep=',')\n"
   ]
  },
  {
   "cell_type": "code",
   "execution_count": 28,
   "id": "040d8f39",
   "metadata": {},
   "outputs": [
    {
     "name": "stdout",
     "output_type": "stream",
     "text": [
      "{'name': 'Timur', 'grade': '5'}\n",
      "{'name': 'Arthur', 'grade': '4'}\n",
      "{'name': 'Anri', 'grade': '5'}\n"
     ]
    }
   ],
   "source": [
    "# https://stepik.org/lesson/518491/step/15?unit=510939\n",
    "\n",
    "import csv\n",
    "\n",
    "with open('exam.csv', encoding='utf-8') as file:\n",
    "    rows = csv.DictReader(file, delimiter=',')\n",
    "    for row in rows:\n",
    "        print(row)"
   ]
  },
  {
   "cell_type": "code",
   "execution_count": null,
   "id": "0ffe3d45",
   "metadata": {},
   "outputs": [],
   "source": []
  }
 ],
 "metadata": {
  "kernelspec": {
   "display_name": "Python 3 (ipykernel)",
   "language": "python",
   "name": "python3"
  },
  "language_info": {
   "codemirror_mode": {
    "name": "ipython",
    "version": 3
   },
   "file_extension": ".py",
   "mimetype": "text/x-python",
   "name": "python",
   "nbconvert_exporter": "python",
   "pygments_lexer": "ipython3",
   "version": "3.10.12"
  }
 },
 "nbformat": 4,
 "nbformat_minor": 5
}
